{
 "cells": [
  {
   "cell_type": "markdown",
   "metadata": {},
   "source": [
    "## INTRODUCTION"
   ]
  },
  {
   "cell_type": "markdown",
   "metadata": {},
   "source": [
    "The purpose of this project is to analyze neighbourhoods in Toronto that would be good for living or opening businesses based on crime rate in Toronto. This would be done by K-Means clsutering of the neighbourhoods."
   ]
  },
  {
   "cell_type": "markdown",
   "metadata": {},
   "source": [
    "## DATA"
   ]
  },
  {
   "cell_type": "markdown",
   "metadata": {},
   "source": [
    "To help with this analysis I shall be introducing datasets from the Toronto Police Service Department which I downloaded from Kaggle at https://www.kaggle.com/kapastor/toronto-police-data-crime-rates-by-neighbourhood/data%22 and data with the geographical coordinates of the neighborhoods in Toronto which I compiled myself with help from the Internet.\n",
    "I would also be using Toronto population data of 2016 obtained here https://open.toronto.ca/dataset/neighbourhood-profiles/.\n"
   ]
  },
  {
   "cell_type": "code",
   "execution_count": null,
   "metadata": {},
   "outputs": [],
   "source": []
  }
 ],
 "metadata": {
  "kernelspec": {
   "display_name": "Python 3",
   "language": "python",
   "name": "python3"
  },
  "language_info": {
   "codemirror_mode": {
    "name": "ipython",
    "version": 3
   },
   "file_extension": ".py",
   "mimetype": "text/x-python",
   "name": "python",
   "nbconvert_exporter": "python",
   "pygments_lexer": "ipython3",
   "version": "3.7.6"
  }
 },
 "nbformat": 4,
 "nbformat_minor": 4
}
